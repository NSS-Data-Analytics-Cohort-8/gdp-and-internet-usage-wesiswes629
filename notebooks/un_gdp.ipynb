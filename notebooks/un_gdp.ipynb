{
 "cells": [
  {
   "cell_type": "code",
   "execution_count": 51,
   "id": "f4464914",
   "metadata": {},
   "outputs": [],
   "source": [
    "import pandas as pd\n",
    "import numpy as np\n",
    "import matplotlib.pyplot as plt\n",
    "import seaborn as sns"
   ]
  },
  {
   "cell_type": "markdown",
   "id": "0a5e6197",
   "metadata": {},
   "source": [
    "4.\tUsing the pandas `read_csv()` method, read the GDP dataset into your notebook as a DataFrame called `gdp_df`. Take a look at the first few and last few rows to familiarize yourself with what is contained in this dataset."
   ]
  },
  {
   "cell_type": "code",
   "execution_count": 52,
   "id": "c02bc94e",
   "metadata": {},
   "outputs": [],
   "source": [
    "gdp_df = pd.read_csv('../data/gdp_percapita.csv')"
   ]
  },
  {
   "cell_type": "markdown",
   "id": "94febb75",
   "metadata": {},
   "source": [
    "5. How many rows and columns are in `gdp_df`? What are the data types of each column?"
   ]
  },
  {
   "cell_type": "code",
   "execution_count": 53,
   "id": "f30e2481",
   "metadata": {},
   "outputs": [
    {
     "name": "stdout",
     "output_type": "stream",
     "text": [
      "(7176, 4)\n",
      "<class 'pandas.core.frame.DataFrame'>\n",
      "RangeIndex: 7176 entries, 0 to 7175\n",
      "Data columns (total 4 columns):\n",
      " #   Column           Non-Null Count  Dtype  \n",
      "---  ------           --------------  -----  \n",
      " 0   Country or Area  7176 non-null   object \n",
      " 1   Year             7176 non-null   int64  \n",
      " 2   Value            7176 non-null   float64\n",
      " 3   Value Footnotes  0 non-null      float64\n",
      "dtypes: float64(2), int64(1), object(1)\n",
      "memory usage: 224.4+ KB\n",
      "None\n"
     ]
    }
   ],
   "source": [
    "print(gdp_df.shape)\n",
    "print(gdp_df.info())"
   ]
  },
  {
   "cell_type": "markdown",
   "id": "c5d312f4",
   "metadata": {},
   "source": [
    "6. Drop the `Value Footnotes` column and rename the remaining three to 'Country', 'Year', and 'GDP_Per_Capita'."
   ]
  },
  {
   "cell_type": "code",
   "execution_count": 54,
   "id": "b7ba682e",
   "metadata": {},
   "outputs": [],
   "source": [
    "gdp_df = gdp_df.drop(\"Value Footnotes\", axis=1)\n",
    "\n",
    "gdp_df = gdp_df.rename(columns={\"Country or Area\": \"Country\"})\n",
    "\n",
    "gdp_df = gdp_df.rename(columns={\"Value\":\"GDP_Per_Capita\"})"
   ]
  },
  {
   "cell_type": "markdown",
   "id": "d0a71535",
   "metadata": {},
   "source": [
    "7. How many countries have data for all years? Which countries are missing many years of data? Look at the number of observations per year. What do you notice?"
   ]
  },
  {
   "cell_type": "code",
   "execution_count": 64,
   "id": "1d537251",
   "metadata": {},
   "outputs": [
    {
     "name": "stdout",
     "output_type": "stream",
     "text": [
      "1990\n",
      "2020\n",
      "          Country  Year  GDP_Per_Capita\n",
      "0     Afghanistan  2020     1970.560169\n",
      "18    Afghanistan  2002     1189.784668\n",
      "17    Afghanistan  2003     1235.810063\n",
      "15    Afghanistan  2005     1286.793659\n",
      "14    Afghanistan  2006     1315.789117\n",
      "...           ...   ...             ...\n",
      "7146     Zimbabwe  2019     2310.634802\n",
      "7145     Zimbabwe  2020     2134.555461\n",
      "7174     Zimbabwe  1991     2733.696626\n",
      "7159     Zimbabwe  2006     1781.474597\n",
      "7175     Zimbabwe  1990     2652.129209\n",
      "\n",
      "[7176 rows x 3 columns]\n",
      "Country\n",
      "Afghanistan                     True\n",
      "Africa Eastern and Southern    False\n",
      "Africa Western and Central     False\n",
      "Albania                        False\n",
      "Algeria                        False\n",
      "                               ...  \n",
      "Vietnam                        False\n",
      "West Bank and Gaza              True\n",
      "World                          False\n",
      "Zambia                         False\n",
      "Zimbabwe                       False\n",
      "Name: Year, Length: 242, dtype: bool\n",
      "Country\n",
      "Afghanistan                  True\n",
      "Bosnia and Herzegovina       True\n",
      "Cambodia                     True\n",
      "Canada                       True\n",
      "Cayman Islands               True\n",
      "Croatia                      True\n",
      "CuraÃ§ao                     True\n",
      "Djibouti                     True\n",
      "Estonia                      True\n",
      "Hungary                      True\n",
      "Iceland                      True\n",
      "Israel                       True\n",
      "Kosovo                       True\n",
      "Kuwait                       True\n",
      "Latvia                       True\n",
      "Liberia                      True\n",
      "Libya                        True\n",
      "Lithuania                    True\n",
      "Maldives                     True\n",
      "Moldova                      True\n",
      "Montenegro                   True\n",
      "Nauru                        True\n",
      "Other small states           True\n",
      "Palau                        True\n",
      "Qatar                        True\n",
      "San Marino                   True\n",
      "Serbia                       True\n",
      "Sint Maarten (Dutch part)    True\n",
      "Slovak Republic              True\n",
      "Slovenia                     True\n",
      "Small states                 True\n",
      "Somalia                      True\n",
      "SÃ£o TomÃ© and Principe      True\n",
      "Timor-Leste                  True\n",
      "Turkmenistan                 True\n",
      "Turks and Caicos Islands     True\n",
      "West Bank and Gaza           True\n",
      "Name: Year, dtype: bool\n",
      "37\n"
     ]
    }
   ],
   "source": [
    "print(gdp_df[\"Year\"].min())\n",
    "print(gdp_df[\"Year\"].max())\n",
    "print(gdp_df.sort_values(\"Country\"))\n",
    "print(gdp_df.groupby(\"Country\")[\"Year\"].count()<31)\n",
    "gdp_missing_years = gdp_df.groupby(\"Country\")[\"Year\"].count()<31\n",
    "print(gdp_missing_years[gdp_missing_years==True])\n",
    "print(gdp_missing_years[gdp_missing_years==True].count())\n"
   ]
  },
  {
   "cell_type": "markdown",
   "id": "40072f15",
   "metadata": {},
   "source": [
    "There are 37 countries"
   ]
  },
  {
   "cell_type": "code",
   "execution_count": null,
   "id": "1a9b55a5",
   "metadata": {},
   "outputs": [],
   "source": []
  }
 ],
 "metadata": {
  "kernelspec": {
   "display_name": "Python 3 (ipykernel)",
   "language": "python",
   "name": "python3"
  },
  "language_info": {
   "codemirror_mode": {
    "name": "ipython",
    "version": 3
   },
   "file_extension": ".py",
   "mimetype": "text/x-python",
   "name": "python",
   "nbconvert_exporter": "python",
   "pygments_lexer": "ipython3",
   "version": "3.10.9"
  }
 },
 "nbformat": 4,
 "nbformat_minor": 5
}
